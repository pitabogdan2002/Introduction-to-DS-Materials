{
 "cells": [
  {
   "cell_type": "markdown",
   "id": "e9959f48",
   "metadata": {
    "deletable": false
   },
   "source": [
    "\n",
    "# Assignment 4 for Course 1MS041\n",
    "Make sure you pass the `# ... Test` cells and\n",
    " submit your solution notebook in the corresponding assignment on the course website. You can submit multiple times before the deadline and your highest score will be used."
   ]
  },
  {
   "cell_type": "markdown",
   "id": "b63d8b71",
   "metadata": {
    "deletable": false,
    "lx_assignment_number": "4",
    "lx_assignment_type": "ASSIGNMENT",
    "lx_assignment_type2print": "Assignment",
    "lx_problem_cell_type": "PROBLEM",
    "lx_problem_number": "1",
    "lx_problem_points": "24"
   },
   "source": [
    "---\n",
    "## Assignment 4, PROBLEM 1\n",
    "Maximum Points = 24"
   ]
  },
  {
   "cell_type": "markdown",
   "id": "04e1585d",
   "metadata": {
    "deletable": false,
    "lx_assignment_number": "4",
    "lx_assignment_type": "ASSIGNMENT",
    "lx_assignment_type2print": "Assignment",
    "lx_problem_cell_type": "PROBLEM",
    "lx_problem_number": "1",
    "lx_problem_points": "24"
   },
   "source": [
    "\n",
    "    This time the assignment only consists of one problem, but we will do a more comprehensive analysis instead.\n",
    "\n",
    "Consider the dataset `Corona_NLP_train.csv` that you can get from the course website [git](https://github.com/datascience-intro/1MS041-2024/blob/main/notebooks/data/Corona_NLP_train.csv). The data is \"Coronavirus tweets NLP - Text Classification\" that can be found on [kaggle](https://www.kaggle.com/datasets/datatattle/covid-19-nlp-text-classification). The data has several columns, but we will only be working with `OriginalTweet`and `Sentiment`.\n",
    "\n",
    "1. [3p] Load the data and filter out those tweets that have `Sentiment`=`Neutral`. Let $X$ represent the `OriginalTweet` and let \n",
    "    $$\n",
    "        Y = \n",
    "        \\begin{cases}\n",
    "        1 & \\text{if sentiment is towards positive}\n",
    "        \\\\\n",
    "        0 & \\text{if sentiment is towards negative}.\n",
    "        \\end{cases}\n",
    "    $$\n",
    "    Put the resulting arrays into the variables $X$ and $Y$. Split the data into three parts, train/test/validation where train is 60% of the data, test is 15% and validation is 25% of the data. Do not do this randomly, this is to make sure that we all did the same splits (we are in this case assuming the data is IID as presented in the dataset). That is [train,test,validation] is the splitting layout.\n",
    "\n",
    "2. [4p] There are many ways to solve this classification problem. The first main issue to resolve is to convert the $X$ variable to something that you can feed into a machine learning model. For instance, you can first use [`CountVectorizer`](https://scikit-learn.org/1.5/modules/generated/sklearn.feature_extraction.text.CountVectorizer.html) as the first step. The step that comes after should be a `LogisticRegression` model, but for this to work you need to put together the `CountVectorizer` and the `LogisticRegression` model into a [`Pipeline`](https://scikit-learn.org/1.5/modules/generated/sklearn.pipeline.Pipeline.html#sklearn.pipeline.Pipeline). Fill in the variable `model` such that it accepts the raw text as input and outputs a number $0$ or $1$, make sure that `model.predict_proba` works for this. **Hint: You might need to play with the parameters of LogisticRegression to get convergence, make sure that it doesn't take too long or the autograder might kill your code**\n",
    "3. [3p] Use your trained model and calculate the precision and recall on both classes. Fill in the corresponding variables with the answer.\n",
    "4. [3p] Let us now define a cost function\n",
    "    * A positive tweet that is classified as negative will have a cost of 1\n",
    "    * A negative tweet that is classified as positive will have a cost of 5\n",
    "    * Correct classifications cost 0\n",
    "    \n",
    "    complete filling the function `cost` to compute the cost of a prediction model under a certain prediction threshold (recall our precision recall lecture and the `predict_proba` function from trained models). \n",
    "\n",
    "5. [4p] Now, we wish to select the threshold of our classifier that minimizes the cost, fill in the selected threshold value in value `optimal_threshold`.\n",
    "6. [4p] With your newly computed threshold value, compute the cost of putting this model in production by computing the cost using the validation data. Also provide a confidence interval of the cost using Hoeffdings inequality with a 99% confidence.\n",
    "7. [3p] Let $t$ be the threshold you found and $f$ the model you fitted (one of the outputs of `predict_proba`), if we define the random variable\n",
    "    $$\n",
    "        C = (1-1_{f(X)\\geq t})Y+5(1-Y)1_{f(X) \\geq t}\n",
    "    $$\n",
    "    then $C$ denotes the cost of a randomly chosen tweet. In the previous step we estimated $\\mathbb{E}[C]$ using the empirical mean. However, since the threshold is chosen to minimize cost it is likely that $C=0$ or $C=1$ than $C=5$ as such it will have a low variance. Compute the empirical variance of $C$ on the validation set. What would be the confidence interval if we used Bennett's inequality instead of Hoeffding in point 6 but with the computed empirical variance as our guess for the variance?"
   ]
  },
  {
   "cell_type": "code",
   "execution_count": 2,
   "id": "49e6fa33",
   "metadata": {
    "deletable": false,
    "lx_assignment_number": "4",
    "lx_assignment_type": "ASSIGNMENT",
    "lx_assignment_type2print": "Assignment",
    "lx_problem_cell_type": "PROBLEM",
    "lx_problem_number": "1",
    "lx_problem_points": "24"
   },
   "outputs": [],
   "source": [
    "\n",
    "# Part 1\n",
    "\n",
    "# Load the data from the file specified in the problem definition and make sure that it is loaded using\n",
    "# the search path `data/Corona_NLP_train.csv`. This is to make sure the autograder and your computer have the same\n",
    "# file path and can load the data correctly.\n",
    "\n",
    "# Contrary to how many other problems are structured, this problem actually requires you to\n",
    "# have X on the shape (n_samples, ) that is a 1-dimensional array. Otherwise it will cause a bunch\n",
    "# of errors in the autograder or also in for instance CountVectorizer.\n",
    "\n",
    "# Make sure that all your data is numpy arrays and not pandas dataframes or series.\n",
    "\n",
    "import csv\n",
    "import numpy as np \n",
    "X = []\n",
    "Y =[]\n",
    "with open('data/Corona_NLP_train.csv', mode='r',encoding='ISO-8859-1') as csv_file:\n",
    "    reader = csv.reader(csv_file)\n",
    "    next(reader)\n",
    "    for row in reader:\n",
    "        if 'neutral' in row[5].lower():\n",
    "            continue\n",
    "        if 'positive' in row[5].lower():\n",
    "            Y.append(1)\n",
    "        else:\n",
    "            Y.append(0)\n",
    "        X.append(row[4].strip())\n",
    "\n",
    "train_nr = int(len(X) * 0.6)\n",
    "train_test_nr = int(len(X) * 0.75)\n",
    "X_train =  np.array(X[:train_nr])\n",
    "Y_train = np.array(Y[:train_nr])\n",
    "X_test = np.array(X[train_nr:train_test_nr-1])\n",
    "Y_test =np.array( Y[train_nr:train_test_nr-1])\n",
    "X_valid = np.array(X[train_test_nr-1:])\n",
    "Y_valid = np.array(Y[train_test_nr-1:])"
   ]
  },
  {
   "cell_type": "code",
   "execution_count": 3,
   "id": "078fe203",
   "metadata": {
    "deletable": false,
    "lx_assignment_number": "4",
    "lx_assignment_type": "ASSIGNMENT",
    "lx_assignment_type2print": "Assignment",
    "lx_problem_cell_type": "PROBLEM",
    "lx_problem_number": "1",
    "lx_problem_points": "24"
   },
   "outputs": [],
   "source": [
    "\n",
    "# Part 2\n",
    "\n",
    "# Train a machine learning model or pipeline that can take the raw strings from X and predict Y=0,1 depending on the\n",
    "# sentiment of the tweet. Store the trained model in the variable `model`.\n",
    "from sklearn.feature_extraction.text import CountVectorizer\n",
    "from sklearn.linear_model import LogisticRegression\n",
    "from sklearn.pipeline import Pipeline\n",
    "from sklearn.metrics import precision_score, recall_score\n",
    "\n",
    "model  = Pipeline([('convetor', CountVectorizer()),('logistic', LogisticRegression(max_iter=100, solver='liblinear', random_state=42))])\n",
    "model.fit(X_train, Y_train)\n",
    "model_test_predictions = model.predict(X_test)\n",
    "model__test_probabilities = model.predict_proba(X_test)[:,1]\n"
   ]
  },
  {
   "cell_type": "code",
   "execution_count": 4,
   "id": "ec6fd1d4",
   "metadata": {
    "deletable": false,
    "lx_assignment_number": "4",
    "lx_assignment_type": "ASSIGNMENT",
    "lx_assignment_type2print": "Assignment",
    "lx_problem_cell_type": "PROBLEM",
    "lx_problem_number": "1",
    "lx_problem_points": "24"
   },
   "outputs": [
    {
     "name": "stdout",
     "output_type": "stream",
     "text": [
      "0.8579595426561126 0.8708971553610503 0.8464208242950109 0.8808557727775729\n"
     ]
    }
   ],
   "source": [
    "\n",
    "# Part 3\n",
    "\n",
    "# Evaluate the model on the test set and calculate precision, and recall on both classes. Store the results in the\n",
    "# variables `precision_0`, `precision_1`, `recall_0`, `recall_1`.\n",
    "precision_0 = precision_score(Y_test, model_test_predictions, pos_label=0)\n",
    "precision_1 = precision_score(Y_test, model_test_predictions, pos_label=1)\n",
    "recall_0 = recall_score(Y_test, model_test_predictions, pos_label=0)\n",
    "recall_1 = recall_score(Y_test, model_test_predictions, pos_label=1)\n",
    "print(precision_0,precision_1,recall_0,recall_1)\n",
    "\n"
   ]
  },
  {
   "cell_type": "code",
   "execution_count": 5,
   "id": "10698374",
   "metadata": {
    "deletable": false,
    "lx_assignment_number": "4",
    "lx_assignment_type": "ASSIGNMENT",
    "lx_assignment_type2print": "Assignment",
    "lx_problem_cell_type": "PROBLEM",
    "lx_problem_number": "1",
    "lx_problem_points": "24"
   },
   "outputs": [],
   "source": [
    "\n",
    "# Part 4\n",
    "\n",
    "def cost(model,threshold,X,Y):\n",
    "    # Hint, make sure that the model has a predict_proba method\n",
    "    # think about how the decision is made based on the probabilities\n",
    "    # and how the threshold can be used to make the decision.\n",
    "    # For reference take a look at the lecture notes \"Bayes classifier\"\n",
    "    # which contains how the decision is made based on the probabilities when the threshold is 0.5.\n",
    "    \n",
    "    # Fill in what is missing to compute the cost and return it\n",
    "    # Note that we are interested in average cost\n",
    "    model_probabilities = model.predict_proba(X)[:,1]\n",
    "    model_adjusted_labels = (model_probabilities > threshold).astype(int)\n",
    "    model_fn_cost = np.sum((model_adjusted_labels == 0) & (Y == 1))\n",
    "    model_fp_cost = np.sum((model_adjusted_labels == 1) & (Y == 0)) * 5 \n",
    "    total = model_fn_cost + model_fp_cost\n",
    "    return total / len(Y)"
   ]
  },
  {
   "cell_type": "code",
   "execution_count": 6,
   "id": "b21963ec",
   "metadata": {
    "deletable": false,
    "lx_assignment_number": "4",
    "lx_assignment_type": "ASSIGNMENT",
    "lx_assignment_type2print": "Assignment",
    "lx_problem_cell_type": "PROBLEM",
    "lx_problem_number": "1",
    "lx_problem_points": "24"
   },
   "outputs": [
    {
     "name": "stdout",
     "output_type": "stream",
     "text": [
      "0.8 0.2727272727272727\n"
     ]
    }
   ],
   "source": [
    "\n",
    "# Part 5\n",
    "\n",
    "# Find the optimal threshold for the model on the test set. Store the threshold in the variable `optimal_threshold`\n",
    "# and the cost at the optimal threshold in the variable `cost_at_optimal_threshold` evaluated on the test set.\n",
    "\n",
    "min_cost = -1\n",
    "min_threshold = 0\n",
    "potential_thresholds = np.arange(0, 1.01, 0.1)\n",
    "for threshold in potential_thresholds:\n",
    "    computed_cost = cost(model, threshold, X_test, Y_test)\n",
    "    if min_cost == -1:\n",
    "        min_cost = computed_cost\n",
    "        min_threshold = threshold\n",
    "    elif min_cost > computed_cost:\n",
    "        min_cost = computed_cost\n",
    "        min_threshold = threshold\n",
    "optimal_threshold = min_threshold\n",
    "cost_at_optimal_threshold = min_cost\n",
    "print(optimal_threshold, cost_at_optimal_threshold)"
   ]
  },
  {
   "cell_type": "code",
   "execution_count": 7,
   "id": "79a1c5e6",
   "metadata": {
    "deletable": false,
    "lx_assignment_number": "4",
    "lx_assignment_type": "ASSIGNMENT",
    "lx_assignment_type2print": "Assignment",
    "lx_problem_cell_type": "PROBLEM",
    "lx_problem_number": "1",
    "lx_problem_points": "24"
   },
   "outputs": [
    {
     "name": "stdout",
     "output_type": "stream",
     "text": [
      "0.27744558718010043\n",
      "0.08899567661998982\n",
      "(np.float64(0.18844991056011062), np.float64(0.36644126380009023))\n"
     ]
    }
   ],
   "source": [
    "\n",
    "# Part 6\n",
    "cost_at_optimal_threshold_valid = cost(model,optimal_threshold,X_valid,Y_valid)\n",
    "print(cost_at_optimal_threshold_valid)\n",
    "e_hoeffdings = np.sqrt(25 * np.log(2 / 0.01) / 2 / len(Y_valid))\n",
    "print(e_hoeffdings)\n",
    "cost_interval_valid = (cost_at_optimal_threshold_valid - e_hoeffdings, cost_at_optimal_threshold_valid + e_hoeffdings)\n",
    "print(cost_interval_valid)\n",
    "\n",
    "assert(type(cost_interval_valid) == tuple)\n",
    "assert(len(cost_interval_valid) == 2)"
   ]
  },
  {
   "cell_type": "code",
   "execution_count": 8,
   "id": "e3bc0760",
   "metadata": {
    "deletable": false,
    "lx_assignment_number": "4",
    "lx_assignment_type": "ASSIGNMENT",
    "lx_assignment_type2print": "Assignment",
    "lx_problem_cell_type": "PROBLEM",
    "lx_problem_number": "1",
    "lx_problem_points": "24"
   },
   "outputs": [
    {
     "name": "stdout",
     "output_type": "stream",
     "text": [
      "0.6692569047766288\n",
      "0.27744558718010043\n",
      "(np.float64(0.24728539492103696), np.float64(0.3076057794391639))\n"
     ]
    }
   ],
   "source": [
    "# Part 7\n",
    "from scipy.optimize import root_scalar\n",
    "\n",
    "probabilities_validation = model.predict_proba(X_valid)[:, 1]\n",
    "adjusted_labels_validation = (probabilities_validation >= optimal_threshold).astype(int)\n",
    "validation_value_of_C = (1 - adjusted_labels_validation) * Y_valid + 5 * (1 - Y_valid) * adjusted_labels_validation\n",
    "\n",
    "\n",
    "variance_of_C = np.var(validation_value_of_C)\n",
    "print(variance_of_C)\n",
    "\n",
    "def determine_epsilon(e):\n",
    "    x = (1 + (5 * e) / variance_of_C) * np.log(1 + (5 * e) / variance_of_C) - (5 * e) / variance_of_C\n",
    "    return 2 * np.exp(-len(validation_value_of_C) * (variance_of_C / (5 ** 2)) * x) - 0.01  \n",
    "\n",
    "e_bennett = root_scalar(determine_epsilon, bracket=[0, 0.2], method=\"bisect\").root\n",
    "\n",
    "mean_of_C = np.mean(validation_value_of_C)\n",
    "print(mean_of_C)\n",
    "interval_of_C = (mean_of_C - e_bennett, mean_of_C + e_bennett)\n",
    "print(interval_of_C)\n",
    "\n",
    "assert(type(interval_of_C) == tuple)\n",
    "assert(len(interval_of_C) == 2)"
   ]
  }
 ],
 "metadata": {
  "kernelspec": {
   "display_name": "Python 3",
   "language": "python",
   "name": "python3"
  },
  "language_info": {
   "codemirror_mode": {
    "name": "ipython",
    "version": 3
   },
   "file_extension": ".py",
   "mimetype": "text/x-python",
   "name": "python",
   "nbconvert_exporter": "python",
   "pygments_lexer": "ipython3",
   "version": "3.11.9"
  },
  "lx_assignment_number": 4,
  "lx_course_instance": "2024",
  "lx_course_name": "Introduction to Data Science",
  "lx_course_number": "1MS041"
 },
 "nbformat": 4,
 "nbformat_minor": 5
}
